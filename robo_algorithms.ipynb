{
 "cells": [
  {
   "cell_type": "code",
   "execution_count": null,
   "id": "0",
   "metadata": {},
   "outputs": [],
   "source": [
    "import numpy as np\n",
    "import networkx as nx"
   ]
  },
  {
   "cell_type": "code",
   "execution_count": null,
   "id": "1",
   "metadata": {},
   "outputs": [],
   "source": [
    "from src.visuals import visualize_graph, animate_trajectories, get_node_color_for_agent\n",
    "from src.agent import ExploringAgent, TreeNode\n",
    "from src.communication import find_groups, synchronize_information, update_tasks, no_collision_move\n",
    "from src.graph_clearing import split_largest_subtree_until_threshold"
   ]
  },
  {
   "cell_type": "code",
   "execution_count": null,
   "id": "2",
   "metadata": {},
   "outputs": [],
   "source": [
    "def generate_random_tree(n_nodes=10):\n",
    "    end = np.arange(n_nodes)\n",
    "    start = (end * np.random.uniform(size=n_nodes)).astype(int)\n",
    "    edges = np.stack([start, end], axis=1)[1:]\n",
    "    \n",
    "    children = [edges[edges[:, 0] == i, 1].tolist() for i in range(n_nodes)]\n",
    "    \n",
    "    # Create nodes\n",
    "    nodes = {i: TreeNode(i) for i in range(n_nodes)}\n",
    "    \n",
    "    # Build tree structure\n",
    "    for i, child_indices in enumerate(children):\n",
    "        for child_idx in child_indices:\n",
    "            nodes[i].add_child(nodes[child_idx])\n",
    "    \n",
    "    G = nx.DiGraph()\n",
    "    for parent, local_children in enumerate(children):\n",
    "        for child in local_children:\n",
    "            G.add_edge(parent, child)\n",
    "            \n",
    "    positions = nx.nx_agraph.graphviz_layout(G, prog='dot')\n",
    "    positions = np.asarray([value for key, value in sorted(positions.items())])\n",
    "\n",
    "    return nodes, edges, positions, children"
   ]
  },
  {
   "cell_type": "code",
   "execution_count": null,
   "id": "3",
   "metadata": {},
   "outputs": [],
   "source": [
    "n_nodes = 10\n",
    "true_map, edges, positions, children = generate_random_tree(n_nodes=n_nodes)"
   ]
  },
  {
   "cell_type": "code",
   "execution_count": null,
   "id": "4",
   "metadata": {},
   "outputs": [],
   "source": [
    "n_agents = 2\n",
    "n_responsibilities = 3\n",
    "root = 0\n",
    "agents = [ExploringAgent(i, root, true_map, root=root, all_responsibilities=list(range(n_responsibilities)), taken_responsibilities=list(range(n_agents))) for i in range(n_agents)]\n",
    "trajectories = [[0] for _ in range(n_agents)]\n",
    "explored_nodes = [[[]] for _ in range(n_agents)]\n",
    "\n",
    "for i in range(150):\n",
    "    connected_agent_groups = find_groups(agents, edges)\n",
    "    for group in connected_agent_groups:\n",
    "        synchronize_information(group)\n",
    "        update_tasks(group, root)\n",
    "        no_collision_move(group)\n",
    "        \n",
    "    for agent in agents:\n",
    "        agent.update_map()\n",
    "        trajectories[agent.id].append(agent.current_node)\n",
    "        \n",
    "    for idx, agent in enumerate(agents):\n",
    "        explored_nodes[idx].append([k for k, v in agent.node_map.items() if v.get('visited', False)])"
   ]
  },
  {
   "cell_type": "code",
   "execution_count": null,
   "id": "5",
   "metadata": {},
   "outputs": [],
   "source": [
    "fig = visualize_graph(n_nodes, positions, children)\n",
    "animate_trajectories(fig, positions, trajectories, node_colors=get_node_color_for_agent(1, n_nodes, explored_nodes), highlight=1)\n",
    "\n",
    "fig.show()"
   ]
  },
  {
   "cell_type": "code",
   "execution_count": null,
   "id": "6",
   "metadata": {},
   "outputs": [],
   "source": [
    "split_largest_subtree_until_threshold(edges, 7)"
   ]
  }
 ],
 "metadata": {
  "kernelspec": {
   "display_name": ".venv",
   "language": "python",
   "name": "python3"
  },
  "language_info": {
   "codemirror_mode": {
    "name": "ipython",
    "version": 3
   },
   "file_extension": ".py",
   "mimetype": "text/x-python",
   "name": "python",
   "nbconvert_exporter": "python",
   "pygments_lexer": "ipython3",
   "version": "3.11.8"
  }
 },
 "nbformat": 4,
 "nbformat_minor": 5
}
