{
 "cells": [
  {
   "cell_type": "code",
   "execution_count": null,
   "id": "0",
   "metadata": {},
   "outputs": [],
   "source": [
    "import numpy as np\n",
    "import networkx as nx\n",
    "import pandas as pd"
   ]
  },
  {
   "cell_type": "code",
   "execution_count": null,
   "id": "1",
   "metadata": {},
   "outputs": [],
   "source": [
    "from src.visuals import visualize_graph, animate_trajectories, get_node_color_for_agent\n",
    "from src.agent import ExploringAgent, TreeNode\n",
    "from src.communication import find_groups, synchronize_information, update_tasks, no_collision_move\n",
    "from src.graph_clearing import split_largest_subtree_until_threshold, calculate_robots_required_for_clear"
   ]
  },
  {
   "cell_type": "code",
   "execution_count": null,
   "id": "2",
   "metadata": {},
   "outputs": [],
   "source": [
    "def map_from_edges(edges, root):\n",
    "    nodes = {root: TreeNode(root)}\n",
    "\n",
    "    processed_nodes = set()\n",
    "    nodes_to_process = {root}\n",
    "\n",
    "    while len(nodes_to_process) > 0:\n",
    "        current = nodes_to_process.pop()\n",
    "        processed_nodes.add(current)\n",
    "        connected_to = set(np.unique(edges[(edges == current).any(axis=1)]).tolist()) - processed_nodes\n",
    "\n",
    "        nodes_to_process = (nodes_to_process | set(connected_to))\n",
    "\n",
    "        for node_value in connected_to:\n",
    "            nodes[current].children.append(node_value)\n",
    "\n",
    "            nodes[node_value] = TreeNode(node_value, parent=current)\n",
    "        \n",
    "    return nodes"
   ]
  },
  {
   "cell_type": "code",
   "execution_count": null,
   "id": "3",
   "metadata": {},
   "outputs": [],
   "source": [
    "def generate_random_tree(n_nodes=10):\n",
    "    end = np.arange(n_nodes)\n",
    "    start = (end * np.random.uniform(size=n_nodes)).astype(int)\n",
    "    edges = np.stack([start, end], axis=1)[1:]\n",
    "    \n",
    "    children = [edges[edges[:, 0] == i, 1].tolist() for i in range(n_nodes)]\n",
    "    \n",
    "    nodes = map_from_edges(edges, root=0)\n",
    "    \n",
    "    G = nx.DiGraph()\n",
    "    for parent, local_children in enumerate(children):\n",
    "        for child in local_children:\n",
    "            G.add_edge(parent, child)\n",
    "            \n",
    "    positions = nx.nx_agraph.graphviz_layout(G, prog='dot')\n",
    "    positions = np.asarray([value for key, value in sorted(positions.items())])\n",
    "\n",
    "    return nodes, edges, positions, children"
   ]
  },
  {
   "cell_type": "code",
   "execution_count": null,
   "id": "4",
   "metadata": {},
   "outputs": [],
   "source": [
    "n_nodes = 10\n",
    "true_map, edges, positions, children = generate_random_tree(n_nodes=n_nodes)"
   ]
  },
  {
   "cell_type": "code",
   "execution_count": null,
   "id": "5",
   "metadata": {},
   "outputs": [],
   "source": [
    "n_agents = 2\n",
    "n_responsibilities = 3\n",
    "root = 0\n",
    "agents = [ExploringAgent(i, root, true_map, root=root, all_responsibilities=list(range(n_responsibilities)), taken_responsibilities=list(range(n_agents))) for i in range(n_agents)]\n",
    "trajectories = [[0] for _ in range(n_agents)]\n",
    "explored_nodes = [[[]] for _ in range(n_agents)]\n",
    "\n",
    "for i in range(150):\n",
    "    connected_agent_groups = find_groups(agents, edges)\n",
    "    for group in connected_agent_groups:\n",
    "        synchronize_information(group)\n",
    "        update_tasks(group, root)\n",
    "        no_collision_move(group)\n",
    "        \n",
    "    for agent in agents:\n",
    "        agent.update_map()\n",
    "        trajectories[agent.id].append(agent.current_node)\n",
    "        \n",
    "    for idx, agent in enumerate(agents):\n",
    "        explored_nodes[idx].append([k for k, v in agent.node_map.items() if v.get('visited', False)])"
   ]
  },
  {
   "cell_type": "code",
   "execution_count": null,
   "id": "6",
   "metadata": {},
   "outputs": [],
   "source": [
    "fig = visualize_graph(n_nodes, positions, children)\n",
    "animate_trajectories(fig, positions, trajectories, node_colors=get_node_color_for_agent(1, n_nodes, explored_nodes), highlight=1)\n",
    "\n",
    "fig.show()"
   ]
  },
  {
   "cell_type": "code",
   "execution_count": null,
   "id": "7",
   "metadata": {},
   "outputs": [],
   "source": [
    "# split_largest_subtree_until_threshold(edges, 7)"
   ]
  },
  {
   "cell_type": "code",
   "execution_count": null,
   "id": "8",
   "metadata": {},
   "outputs": [],
   "source": [
    "root, n_required, df = calculate_robots_required_for_clear(edges)"
   ]
  },
  {
   "cell_type": "code",
   "execution_count": null,
   "id": "9",
   "metadata": {},
   "outputs": [],
   "source": [
    "def root_tags(scores, root, root_val):\n",
    "    scores = scores.copy()\n",
    "    values = [root]\n",
    "    out = []\n",
    "\n",
    "    while(len(values) > 0):\n",
    "        out = out + [scores[scores['from'].isin(values)]]\n",
    "        scores = scores[~scores['to'].isin(values)]\n",
    "        values = scores[scores['from'].isin(values)]['to'].tolist()\n",
    "\n",
    "    out = pd.concat(out).set_index('to', drop=True)['value'].to_dict()\n",
    "    out[root] = root_val\n",
    "    return out"
   ]
  },
  {
   "cell_type": "code",
   "execution_count": null,
   "id": "10",
   "metadata": {},
   "outputs": [],
   "source": [
    "agents[0].node_map"
   ]
  },
  {
   "cell_type": "code",
   "execution_count": null,
   "id": "11",
   "metadata": {},
   "outputs": [],
   "source": [
    "root_tags(df, root, n_required)"
   ]
  },
  {
   "cell_type": "code",
   "execution_count": null,
   "id": "12",
   "metadata": {},
   "outputs": [],
   "source": [
    "map_from_edges(edges, root)"
   ]
  }
 ],
 "metadata": {
  "kernelspec": {
   "display_name": ".venv",
   "language": "python",
   "name": "python3"
  },
  "language_info": {
   "codemirror_mode": {
    "name": "ipython",
    "version": 3
   },
   "file_extension": ".py",
   "mimetype": "text/x-python",
   "name": "python",
   "nbconvert_exporter": "python",
   "pygments_lexer": "ipython3",
   "version": "3.11.8"
  }
 },
 "nbformat": 4,
 "nbformat_minor": 5
}
